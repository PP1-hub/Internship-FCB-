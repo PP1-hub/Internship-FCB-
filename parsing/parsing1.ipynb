{
 "cells": [
  {
   "cell_type": "markdown",
   "id": "69fedc46",
   "metadata": {},
   "source": [
    "## Import libraries"
   ]
  },
  {
   "cell_type": "code",
   "execution_count": 1,
   "id": "e58ec223",
   "metadata": {},
   "outputs": [],
   "source": [
    "import pandas as pd\n",
    "import re\n",
    "import os\n",
    "import time\n",
    "import sys\n",
    "from datetime import datetime, date\n",
    "import warnings\n",
    "import docx\n",
    "from docx import Document\n",
    "import urllib.request\n",
    "import sqlalchemy as sa\n",
    "import time\n",
    "warnings.filterwarnings(\"ignore\")"
   ]
  },
  {
   "cell_type": "code",
   "execution_count": 4,
   "id": "3d638dee",
   "metadata": {},
   "outputs": [],
   "source": [
    "from selenium.webdriver.common.by import By\n",
    "from selenium import webdriver\n",
    "from selenium.webdriver.chrome.options import Options\n",
    "\n",
    "from selenium.webdriver.support import expected_conditions\n",
    "from selenium.webdriver.common.by import By\n",
    "from selenium.webdriver.support.ui import WebDriverWait\n",
    "from selenium.common.exceptions import NoSuchElementException\n",
    "from selenium import webdriver\n",
    "from webdriver_manager.chrome import ChromeDriverManager\n",
    "chrome_options = Options()"
   ]
  },
  {
   "cell_type": "code",
   "execution_count": null,
   "id": "8480f68c",
   "metadata": {},
   "outputs": [],
   "source": [
    "basedir = os.getcwd()\n",
    "\n",
    "os.mkdir(basedir + '/tmpFolder/')\n",
    "\n",
    "os.chdir(basedir + '/tmpFolder/')"
   ]
  },
  {
   "cell_type": "code",
   "execution_count": null,
   "id": "fd2be4c4",
   "metadata": {},
   "outputs": [],
   "source": [
    "chrome_options.add_argument('--no-sandbox')\n",
    "chrome_options.add_argument(\"--disable-dev-shm-usage\")\n",
    "chrome_options.add_argument(\"--headless\")\n",
    "chrome_options.add_argument('--dns-prefetch-disable')\n",
    "chrome_options.add_argument('--remote-debugging-port=9222')\n",
    "#chrome_options.add_experimental_option('prefs', prefs)\n"
   ]
  },
  {
   "cell_type": "markdown",
   "id": "9aadcf9f",
   "metadata": {},
   "source": [
    "## Import files from Browser"
   ]
  },
  {
   "cell_type": "code",
   "execution_count": null,
   "id": "6e2e3baf",
   "metadata": {},
   "outputs": [],
   "source": [
    "driver = webdriver.Chrome(executable_path=r\"\\Users\\baiba\\OneDrive\\chromedriver\", chrome_options=chrome_options)\n",
    "\n",
    "driver.maximize_window()\n",
    "driver.get('https://stat.gov.kz/official/industry/26/statistic/6')\n",
    "\n",
    "print(driver.title)\n",
    "\n",
    "driver.find_element_by_xpath(\"//button[text()='РУС']\").click()\n",
    "\n",
    "driver.find_element_by_xpath(\"//button[text()='РУС']\").click()\n",
    "\n",
    "print(driver.title)\n",
    "\n",
    "time.sleep(5)"
   ]
  },
  {
   "cell_type": "code",
   "execution_count": null,
   "id": "390b6928",
   "metadata": {},
   "outputs": [],
   "source": [
    "try:\n",
    "    year_sur = datetime.now().year\n",
    "    driver.find_element_by_xpath(f\"//select[@class='field-period']/option[@value={year_sur}]\").click()\n",
    "    #driver.find_element_by_xpath(\"//select[@class='field-title']/option[@value='1548']\").click()\n",
    "    driver.find_element_by_xpath(\"//option[text()='Об инфляции в Республике Казахстан']\").click()\n",
    "    print(year_sur)\n",
    "\n",
    "except NoSuchElementException:\n",
    "    year_sur = datetime.now().year-1\n",
    "    driver.find_element_by_xpath(f\"//select[@class='field-period']/option[@value={year_sur}]\").click()\n",
    "    #driver.find_element_by_xpath(\"//select[@class='field-title']/option[@value='1548']\").click()\n",
    "    driver.find_element_by_xpath(\"//option[text()='Об инфляции в Республике Казахстан']\").click()\n",
    "    print(year_sur)\n",
    " \n",
    "\n",
    "time.sleep(5)"
   ]
  },
  {
   "cell_type": "code",
   "execution_count": null,
   "id": "5648d98c",
   "metadata": {},
   "outputs": [],
   "source": [
    "months = {'январь': '01', 'февраль':'02', 'март':'03', 'апрель':'04', 'май':'05', 'июнь':'06', \n",
    "          'июль':'07','август':'08', 'сентябрь':'09', 'октябрь':'10', 'ноябрь':'11', 'декабрь':'12', \n",
    "          'январе': '01', 'феврале':'02', 'марте':'03', 'апреле':'04', 'мае':'05', 'июне':'06', \n",
    "          'июле':'07','августе':'08', 'сентябре':'09', 'октябре':'10', 'ноябре':'11', 'декабре':'12',\n",
    "          'января': '01', 'февраля':'02', 'марта':'03', 'апреля':'04', 'мая':'05', 'июня':'06',\n",
    "          'июля':'07','августа':'08', 'сентября':'09', 'октября':'10', 'ноября':'11', 'декабря':'12',}"
   ]
  },
  {
   "cell_type": "code",
   "execution_count": null,
   "id": "64fa8858",
   "metadata": {},
   "outputs": [],
   "source": [
    "def get_table_by_year(ind_fst, ind_snd):\n",
    "    df_snd_res = []\n",
    "    df_fst_res = []\n",
    "    for i in driver.find_elements_by_xpath('.//div[@class=\"trud-archive-list\"]/a'):\n",
    "        url = i.get_attribute('href')\n",
    "        print('The url is: ' + url)\n",
    "        i.click()\n",
    "        time.sleep(5)\n",
    "        i.click()\n",
    "        print(os.listdir())\n",
    "        if year_sur != 2014:\n",
    "            date = pd.to_datetime(months[i.text.split()[1]] + '.01.' + i.text.split()[2])\n",
    "            #filename = i.text.split()[1] + '_' + i.text.split()[2] + '.docx'\n",
    "        elif year_sur == 2014:\n",
    "            date = pd.to_datetime(months[i.text.split()[0].lower()] + '.01.' + i.text.split()[1])\n",
    "            #filename = i.text.split()[1] + '_' + i.text.split()[2] + '.docx'\n",
    "            \n",
    "        print(url, date)\n",
    "        # w = wc.Dispatch('Word.Application')\n",
    "        filename = urllib.request.urlopen(url).info().get_filename()\n",
    "        filename = 'Э'+filename[1:8]+'М'+filename[9:20]+'рус'+filename[23:]\n",
    "\n",
    "        document = Document(os.path.abspath(filename))\n",
    "\n",
    "        df_snd_res += get_snd_df(document, ind_snd, date)\n",
    "        df_fst_res += get_fst_df(document, ind_fst)\n",
    "\n",
    "        #os.remove(filename)\n",
    "        \n",
    "    return df_fst_res, df_snd_res"
   ]
  },
  {
   "cell_type": "markdown",
   "id": "74fc99e5",
   "metadata": {},
   "source": [
    "## Dataframe"
   ]
  },
  {
   "cell_type": "code",
   "execution_count": null,
   "id": "55e0e0f2",
   "metadata": {},
   "outputs": [],
   "source": [
    "def get_fst_df(document, ind):\n",
    "    df = pd.DataFrame()\n",
    "    df['tovar'] = 0\n",
    "    df['goods'] = 0\n",
    "    df['food'] = 0\n",
    "    df['non_food'] = 0\n",
    "    df['paid_serv'] = 0\n",
    "    \n",
    "    \n",
    "    tables = document.tables\n",
    "    table = tables[1]\n",
    "    \n",
    "    for row in table.rows:\n",
    "        df.loc[ind] = [cell.text for cell in row.cells][:5]\n",
    "        ind += 1\n",
    "    df = check_tovar(df)\n",
    "    return df.to_dict('records')"
   ]
  },
  {
   "cell_type": "code",
   "execution_count": null,
   "id": "4d64da01",
   "metadata": {},
   "outputs": [],
   "source": [
    "def check_tovar(df):\n",
    "    m = None\n",
    "    for i in df.index:\n",
    "        try:\n",
    "            m = int(df.loc[i, 'tovar'])\n",
    "            year = str(m)\n",
    "        except:\n",
    "            if df.loc[i, 'tovar'].lower() in months.keys():\n",
    "                m = pd.to_datetime(months[df.loc[i, 'tovar'].lower()] + '.01.' + year)\n",
    "            else:\n",
    "                m = \"\"\n",
    "        df.loc[i, 'tovar'] = m\n",
    "    \n",
    "    for i in df.index:\n",
    "        if isinstance(df.loc[i, 'tovar'], datetime):\n",
    "            continue\n",
    "        else:\n",
    "            df = df.drop(index=i)\n",
    "        \n",
    "    df.columns = ['date', 'goods', 'food', 'non_food', 'paid_serv'] \n",
    "    \n",
    "    return df"
   ]
  },
  {
   "cell_type": "code",
   "execution_count": null,
   "id": "e5daeb46",
   "metadata": {},
   "outputs": [],
   "source": [
    "def get_snd_df(document, ind, date):\n",
    "    df = pd.DataFrame()\n",
    "    df['goods'] = 0 \n",
    "    df['prev_m'] = 0\n",
    "    df['start_y'] = 0\n",
    "    df['per_year'] = 0\n",
    "    \n",
    "    \n",
    "    tables = document.tables\n",
    "    table_4= tables[4]\n",
    "    table_5 = table_5_df(tables[5])\n",
    "    \n",
    "\n",
    "    for row in table_4.rows:\n",
    "        df.loc[ind] = [cell.text for cell in row.cells][:4]\n",
    "        ind += 1\n",
    "    df = df.append(table_5)\n",
    "    \n",
    "    if date < pd.to_datetime('2020-09-01'):\n",
    "        table_6 = table_5_df(tables[6])\n",
    "        df = df.append(table_6)\n",
    "        \n",
    "    df['date'] = date\n",
    "    return df.to_dict('records')\n",
    "# import glob"
   ]
  },
  {
   "cell_type": "code",
   "execution_count": null,
   "id": "ab6800cb",
   "metadata": {},
   "outputs": [],
   "source": [
    "def table_5_df(table):\n",
    "    res = []\n",
    "    row_list = []\n",
    "    for row in range(0, len(table.rows)):\n",
    "        for col in iter_visual_cells(table.row_cells(row)):\n",
    "    #         print(col.text)\n",
    "            if col.text != '':\n",
    "                if col.text[0].isalpha():\n",
    "                    res.append(row_list)\n",
    " #                 print(col.text)\n",
    "                 \n",
    "                    row_list = []\n",
    "                    row_list.append(col.text)\n",
    "                if col.text[0].isdigit():\n",
    " #                 print(col.text)\n",
    "                    row_list.append(col.text)\n",
    "#                  row_list.append()\n",
    "\n",
    "    res.append(row_list)\n",
    "    res = pd.DataFrame(res).loc[:, :3].dropna()\n",
    "    res.columns = ['goods', 'prev_m', 'start_y', 'per_year']\n",
    "    \n",
    "    return res\n"
   ]
  },
  {
   "cell_type": "code",
   "execution_count": null,
   "id": "6d6af6ca",
   "metadata": {},
   "outputs": [],
   "source": [
    "def iter_visual_cells(row):\n",
    "    prior_tc = None\n",
    "    for cell in row:\n",
    "        this_tc = cell._tc\n",
    "        if this_tc is prior_tc:  # skip cells pointing to same <w:tc> element\n",
    "            continue\n",
    "        yield cell\n",
    "        prior_tc = this_tc\n",
    "        \n",
    "result_snd = []\n",
    "result_fst = []\n",
    "\n",
    "first, second = get_table_by_year( len(result_fst), len(result_snd))\n",
    "result_fst = first\n",
    "result_snd = second"
   ]
  },
  {
   "cell_type": "code",
   "execution_count": null,
   "id": "ecc86424",
   "metadata": {},
   "outputs": [],
   "source": [
    "result_df = pd.DataFrame(result_snd).copy()\n",
    "\n",
    "print(result_df.info())\n",
    "\n",
    "\n",
    "for i in result_df.index:\n",
    "    if result_df.loc[i, 'goods'] == '':\n",
    "        result_df = result_df.drop(index=i)"
   ]
  },
  {
   "cell_type": "code",
   "execution_count": null,
   "id": "a8b98e38",
   "metadata": {},
   "outputs": [],
   "source": [
    "result_df.goods = result_df.goods.apply(lambda x: x[0].upper() + x[1:].lower())\n",
    "for i in ['prev_m', 'start_y', 'per_year']:\n",
    "    result_df[i] = result_df[i].apply(lambda x: x.replace(',', '.'))\n",
    "#     result_df[i] = result_df[i].apply(lambda x: 'None' if x == '' else )\n",
    "result_df.goods = result_df.goods.apply(lambda x:x.replace('\\n', ''))"
   ]
  },
  {
   "cell_type": "code",
   "execution_count": null,
   "id": "6615d28d",
   "metadata": {},
   "outputs": [],
   "source": [
    "result_df = result_df.drop(index = result_df[result_df.goods == '    в процентах'].index)\n",
    "result_df = result_df.drop(index = result_df[result_df.goods == '\\xa0'].index)"
   ]
  },
  {
   "cell_type": "code",
   "execution_count": null,
   "id": "d1965366",
   "metadata": {},
   "outputs": [],
   "source": [
    "def check_goods(x):\n",
    "    if x == 'Газ сжиженный':\n",
    "        return 'Газ сжиженный (в баллонах)'\n",
    "    if x == 'Газ, транспортируемый по распределительным сетям':\n",
    "        return 'Газ транспортируемый по распределительным сетям'\n",
    "    if x == 'Мясо':\n",
    "        return 'Мясо (включая мясопродукты)'\n",
    "    if x == 'Кефир':\n",
    "        return 'Кефир 2,5% жирности'\n",
    "    if x == 'Творог' or x == 'Творог ':\n",
    "        return 'Творог 5-9% жирности'\n",
    "    if x == 'Яйца':\n",
    "        return 'Яйца, I категории'\n",
    "    if x.find('Яйца') != -1:\n",
    "        return 'Яйца, I категории'\n",
    "    if x == 'Горячая  вода':\n",
    "        return 'Горячая вода'\n",
    "    if x == 'Жилищные услуги, вода, электроэнергия, газ и' or x == 'Жилищные услуги, вода, электроэнергия, газ и другие виды топлива':\n",
    "        return 'Жилищные услуги, вода, электроэнергия, газ и прочие виды топлива'\n",
    "    if x == 'Колбасные изделия':\n",
    "        return 'Колбасы'\n",
    "    if x=='Мука пшеничная':\n",
    "        return 'Мука пшеничная из высшего сорта'\n",
    "    else:\n",
    "        return x"
   ]
  },
  {
   "cell_type": "code",
   "execution_count": null,
   "id": "396fe2c8",
   "metadata": {},
   "outputs": [],
   "source": [
    "result_df.goods = result_df.goods.apply(lambda x: check_goods(x))\n",
    "\n",
    "\n",
    "result_fst = pd.DataFrame(result_fst)\n",
    "\n",
    "result_fst['date'] = result_fst['date'].apply(lambda x: x.strftime('%Y-%m-%d'))\n",
    "\n",
    "for i in result_fst.columns:\n",
    "    if i != 'date':\n",
    "        result_fst[i] = result_fst[i].apply(lambda x: float(x.replace(',', '.')))"
   ]
  },
  {
   "cell_type": "code",
   "execution_count": null,
   "id": "5feeb4ef",
   "metadata": {},
   "outputs": [],
   "source": [
    "result_df.insert(1, 'date_rec', result_df['date'])\n",
    "\n",
    "result_df.drop('date', axis=1, inplace=True)\n",
    "\n",
    "result_df.insert(1, 'category', '')\n",
    "\n",
    "result_df['category']=result_df['goods'].map(df_dict)\n",
    "\n",
    "result_df.columns=['title', 'category', 'date_rec', 'index_to_prev_month', 'index_to_jan_cur_year', 'index_to_dec_prev_year']\n",
    "result_df['date_rec'] = result_df['date_rec'].apply(lambda x: x.date())"
   ]
  },
  {
   "cell_type": "code",
   "execution_count": null,
   "id": "0378ed2e",
   "metadata": {},
   "outputs": [],
   "source": [
    "print('This is the titles')\n",
    "print(result_df[result_df['category'].isna()]['title'].unique())\n",
    "\n",
    "print(result_df.info())\n",
    "print(result_fst.info())"
   ]
  },
  {
   "cell_type": "code",
   "execution_count": null,
   "id": "9349af6f",
   "metadata": {},
   "outputs": [],
   "source": [
    "table_name_1 = 'price_index_by_date_to_last_month'\n",
    "\n",
    "table_name_2 = 'price_index_by_goods_services'"
   ]
  },
  {
   "cell_type": "markdown",
   "id": "9aad70f6",
   "metadata": {},
   "source": [
    "## Move dataframe to sql"
   ]
  },
  {
   "cell_type": "code",
   "execution_count": null,
   "id": "242a25e2",
   "metadata": {},
   "outputs": [],
   "source": [
    "engine = sa.create_engine(\n",
    "            \"postgresql+psycopg2://\" + DB_USERNAME + \":\" + DB_PASSWORD + \"@\" + DB_HOST + \":5432/\" + DB_DATABASE + \"\",\n",
    "            echo=False, connect_args={'options': \"-c search_path=anl\"})\n",
    "conn = engine.connect()\n",
    "\n",
    "df_orig_1 = pd.read_sql_table(table_name_1, conn)\n",
    "\n",
    "df_upl_1 = df_orig_1.append(result_fst, ignore_index=True)\n",
    "\n",
    "df_upl_1.drop_duplicates(inplace=True, ignore_index=True)\n",
    "\n",
    "df_upl_1.to_sql(table_name_1, conn, if_exists='replace', index=False, method='multi')\n",
    "\n",
    "df_orig_2 = pd.read_sql_table(table_name_2, conn)\n",
    "\n",
    "df_orig_2['date_rec']=df_orig_2['date_rec'].apply(lambda x: x.date())\n",
    "\n",
    "df_upl_2 = df_orig_2.append(result_df, ignore_index=True)\n",
    "\n",
    "df_upl_2.drop_duplicates(inplace=True, ignore_index=True)\n",
    "\n",
    "df_upl_2.to_sql(table_name_2, conn, if_exists='replace', index=False, method='multi')\n",
    "\n",
    "print('Mission accomplished!')"
   ]
  }
 ],
 "metadata": {
  "kernelspec": {
   "display_name": "Python 3 (ipykernel)",
   "language": "python",
   "name": "python3"
  },
  "language_info": {
   "codemirror_mode": {
    "name": "ipython",
    "version": 3
   },
   "file_extension": ".py",
   "mimetype": "text/x-python",
   "name": "python",
   "nbconvert_exporter": "python",
   "pygments_lexer": "ipython3",
   "version": "3.9.7"
  }
 },
 "nbformat": 4,
 "nbformat_minor": 5
}
